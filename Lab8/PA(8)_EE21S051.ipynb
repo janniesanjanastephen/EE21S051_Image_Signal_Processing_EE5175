{
 "cells": [
  {
   "cell_type": "markdown",
   "id": "58d8b185-5706-4db3-88d9-988af4f86ffb",
   "metadata": {},
   "source": [
    "## Import relavent libraries"
   ]
  },
  {
   "cell_type": "code",
   "execution_count": 1,
   "id": "d133da3e-07fa-4e51-8f79-30fdeaf0f9a2",
   "metadata": {},
   "outputs": [],
   "source": [
    "import numpy as np\n",
    "import matplotlib.pyplot as plt\n",
    "import math\n",
    "from scipy.io import loadmat"
   ]
  },
  {
   "cell_type": "markdown",
   "id": "54fdcbc5-dda7-4734-896f-70586f5a7071",
   "metadata": {},
   "source": [
    "## Markov 1 Processes\n",
    "A Markov 1 process can be typically represented by a matrix R with entries $R(i,j) = \\rho^{|i-j|}$ where $\\rho$ is given."
   ]
  },
  {
   "cell_type": "code",
   "execution_count": 2,
   "id": "99d4555b-e2ef-4a7b-beb6-9cbb136c68aa",
   "metadata": {},
   "outputs": [],
   "source": [
    "def create_Markov1_matrix(n,rho):\n",
    "    R = np.zeros((n,n))\n",
    "    for i in range(n):\n",
    "        for j in range(n):\n",
    "            R[i,j] = rho**(np.abs(i-j))\n",
    "    return R"
   ]
  },
  {
   "cell_type": "markdown",
   "id": "4ee450d9-15c0-4164-af8b-210b89581a52",
   "metadata": {},
   "source": [
    "## Walsh Haddamard Transform\n",
    "WHT uses the Haddamard matrices that at $N x N$, where $N = 2^n$, n=0,1,2...\n",
    "These can be generated from a core matrix\n",
    "\\begin{gather}\n",
    "H_1 =\n",
    "\\begin{bmatrix}\n",
    "1 & 1\\\\\n",
    "1 & -1\n",
    "\\end{bmatrix}\n",
    "\\end{gather}\n",
    "Subsequent matrices can be generated through a Kronecker product, ie., $H_n = H_1 \\otimes H_{n-1}$.\n",
    "\n",
    "The WHT is applied as $H_x * image * H_y^T$ to obtain the coefficients. $H_x$ and $H_y$ are the Haddamard matrices with the suitable length and width of the image."
   ]
  },
  {
   "cell_type": "code",
   "execution_count": 3,
   "id": "dab54eca-15b8-48f6-8701-5acf01e9949f",
   "metadata": {},
   "outputs": [],
   "source": [
    "def get_Haddamard (n):\n",
    "    H1 = np.array([[1,1],[1,-1]])\n",
    "    H1 = np.sqrt(1/2)*H1\n",
    "    Hn = H1.copy()\n",
    "    if n!=1:\n",
    "        for i in range(1,n):\n",
    "            Hn = np.kron(Hn,H1)\n",
    "    return Hn"
   ]
  },
  {
   "cell_type": "code",
   "execution_count": 4,
   "id": "7fbff558-a943-4ad4-a4a1-804988dbe0ce",
   "metadata": {},
   "outputs": [],
   "source": [
    "def Walsh_Haddamard_transform(U):\n",
    "    [x,y] = np.shape(U)\n",
    "    Hx = get_Haddamard (int(math.log2(x)))\n",
    "    Hy = get_Haddamard (int(math.log2(y)))\n",
    "    V = Hx@U@(Hy.T)\n",
    "    return V"
   ]
  },
  {
   "cell_type": "markdown",
   "id": "47176da4-20fe-4f84-904a-0dd5fe8848af",
   "metadata": {},
   "source": [
    "## Discrete Cosine Transform\n",
    "DCT is performed on a 2D image as $C_x * image * C_y^T$ where $C_x$ and $C_y$ are DCT matrices wrt the length and width of the image. The DCT matrix can be determined as follows:\n",
    "\\begin{gather}\n",
    "C(k,n) =\n",
    "\\begin{cases}\n",
    "\\frac{1}{\\sqrt{N}}, k=0, 0\\leq n\\leq N-1 \\\\\n",
    "\\frac{2}{\\sqrt{N}} \\cos(\\frac{\\pi(2n+1)k}{2N}), 1\\leq k \\leq N-1, 0\\leq n\\leq N-1\n",
    "\\end{cases}\n",
    "\\end{gather}"
   ]
  },
  {
   "cell_type": "code",
   "execution_count": 5,
   "id": "99ec2b50-9ca7-41e7-b7ea-1fe8032f971a",
   "metadata": {},
   "outputs": [],
   "source": [
    "def get_DCT(N):\n",
    "    C = np.zeros((N,N))\n",
    "    for k in range(N):\n",
    "        for n in range(N):\n",
    "            if k==0:\n",
    "                C[k,n] = np.sqrt(1/N)\n",
    "            else:\n",
    "                C[k,n] = (np.sqrt(2/N))*(np.cos((math.pi*((2*n)+1)*k)/(2*N)))\n",
    "    return C"
   ]
  },
  {
   "cell_type": "code",
   "execution_count": 6,
   "id": "3b1fdff2-bdc2-41de-ad30-654ccab82b6b",
   "metadata": {},
   "outputs": [],
   "source": [
    "def DCT(U):\n",
    "    [x,y] = np.shape(U)\n",
    "    Cx = get_DCT(x)\n",
    "    Cy = get_DCT(y)\n",
    "    return Cx@U@(Cy.T)"
   ]
  },
  {
   "cell_type": "markdown",
   "id": "c24b72d9-dd76-456a-9044-d404fa49d264",
   "metadata": {},
   "source": [
    "## Energy Packing Efficiency\n",
    "The EPE of a transform can be given as $EPE(m) = \\frac{\\Sigma_{i=1}^{m}R'_{i, i}}{\\Sigma_{i=1}^{N}R'_{i, i}}$ where m is the no. of coefficients."
   ]
  },
  {
   "cell_type": "code",
   "execution_count": 7,
   "id": "e4513cd8-9156-4178-b889-36ec0f1bb12d",
   "metadata": {},
   "outputs": [],
   "source": [
    "def EPE(R):\n",
    "    diagonal = np.abs(np.diag(R))\n",
    "    denominator = np.sum(diagonal)\n",
    "    numerator = np.cumsum(diagonal)\n",
    "    return numerator/denominator"
   ]
  },
  {
   "cell_type": "markdown",
   "id": "8fc3b8d1-e497-4cb8-99e0-08890ac83b03",
   "metadata": {},
   "source": [
    "## Decorrelation Efficiency\n",
    "Decorrelation efficiency can be given as $\\eta = 1-\\frac{\\alpha}{\\beta}$, where $\\alpha = \\Sigma_{i,j=1,i\\neq j}^{N}|R'_{i, i}|$, $\\beta = \\Sigma_{i,j=1,i\\neq j}^{N}|R_{i, i}|$"
   ]
  },
  {
   "cell_type": "code",
   "execution_count": 8,
   "id": "5074d4e6-ece8-493a-8ac2-afe5e5adc2be",
   "metadata": {},
   "outputs": [],
   "source": [
    "def DCE(R,R_prime):\n",
    "    [x,y]=np.shape(R)\n",
    "    alpha = 0\n",
    "    beta = 0\n",
    "    for i in range(x):\n",
    "        for j in range(y):\n",
    "            if(i!=j):\n",
    "                alpha = alpha + np.abs(R_prime[i,j])\n",
    "                beta = beta + np.abs(R[i,j])\n",
    "    eta = 1-alpha/beta\n",
    "    return eta"
   ]
  },
  {
   "cell_type": "markdown",
   "id": "3e90c2b9-08a3-4a79-91aa-73185d72c69e",
   "metadata": {},
   "source": [
    "## Eigen Values and Eigen Vectors\n",
    "We compute the eigenvalues and eigenvectors of R. The are ordered. We compare them with the DCT basis."
   ]
  },
  {
   "cell_type": "code",
   "execution_count": 9,
   "id": "e01f4dcd-f6df-4a3a-af10-17ea35f1b3d2",
   "metadata": {},
   "outputs": [],
   "source": [
    "def Eigen_values(A):\n",
    "    ev, EV = np.linalg.eig(A)\n",
    "    idx = ev.argsort()[::-1]\n",
    "    idx = ev.argsort()[::-1]\n",
    "    ev = ev[idx]\n",
    "    EV = EV[:, idx]\n",
    "    return ev,EV"
   ]
  },
  {
   "cell_type": "markdown",
   "id": "3fa02bfa-fc4b-4d15-8489-6d9b264c160c",
   "metadata": {},
   "source": [
    "## Task 1\n",
    "Assume a Markov-1 process with covariance matrix R of size 8 × 8 and $\\rho$ = 0.91. Compute the\n",
    "Energy Packing Efficiency and De-correlation Efficiency of the Walsh-Haddamard Transform\n",
    "and Discrete Cosine Transform for the above process. What is your observation about the\n",
    "eigenvectors of R in relation to the DCT basis?"
   ]
  },
  {
   "cell_type": "code",
   "execution_count": 10,
   "id": "868c43b5-10b4-474f-a7a5-f9e9713d664e",
   "metadata": {},
   "outputs": [],
   "source": [
    "rho = 0.91\n",
    "N = 8\n",
    "R = create_Markov1_matrix(N,rho)\n",
    "W = Walsh_Haddamard_transform(R)\n",
    "D = DCT(R)\n",
    "\n",
    "W_EPE = EPE(W)\n",
    "W_DCE = DCE(R,W)\n",
    "D_EPE = EPE(D)\n",
    "D_DCE = DCE(R,W)"
   ]
  },
  {
   "cell_type": "code",
   "execution_count": 11,
   "id": "76d34153-85b0-4b83-9376-3ee2358f1ae7",
   "metadata": {},
   "outputs": [
    {
     "data": {
      "image/png": "[encoded data removed]",
      "text/plain": [
       "<Figure size 576x432 with 1 Axes>"
      ]
     },
     "metadata": {
      "needs_background": "light"
     },
     "output_type": "display_data"
    }
   ],
   "source": [
    "plt.figure(figsize=(8, 6))\n",
    "plt.plot(np.arange(N)+1, W_EPE, 'red')\n",
    "plt.plot(np.arange(N)+1, D_EPE, 'blue')\n",
    "plt.xlabel(\"Number of Coefficients (m)\")\n",
    "plt.ylabel(\"EPE\")\n",
    "plt.title(\"Energy Packing Efficiency\")\n",
    "plt.legend([\"WHT\", \"DCT\"])\n",
    "plt.grid(True)\n",
    "plt.show()"
   ]
  },
  {
   "cell_type": "code",
   "execution_count": 12,
   "id": "23f21020-59f1-4d58-8b2f-413f62cf6be2",
   "metadata": {},
   "outputs": [],
   "source": [
    "[ev,EV] = Eigen_values(R)\n",
    "DCT_basis = get_DCT(N)"
   ]
  },
  {
   "cell_type": "markdown",
   "id": "058df516-51b2-404f-bece-c1b825c467bc",
   "metadata": {},
   "source": [
    "## Triagonal Matrix"
   ]
  },
  {
   "cell_type": "code",
   "execution_count": 13,
   "id": "05a5cce7-42c2-4c3a-93fc-9bc11521d9de",
   "metadata": {},
   "outputs": [],
   "source": [
    "def get_Q (alpha,N):\n",
    "    Q = np.zeros((N,N))\n",
    "    Q[0,0] = 1 - alpha\n",
    "    Q[-1,-1] = 1 - alpha\n",
    "    for i in range(1,N-1):\n",
    "        Q[i,i] = 1\n",
    "        Q[i-1,i] = -alpha\n",
    "        Q[i,i-1] = -alpha\n",
    "    return Q"
   ]
  },
  {
   "cell_type": "markdown",
   "id": "511f6937-e767-456c-94db-e8d215c469bf",
   "metadata": {},
   "source": [
    "## Relationship between R and tridiagonal matrix\n",
    "$\\beta^2R^{-1}$ can be observed to be a tridiagobal matrix where $\\beta^2$ is $\\frac{1-\\rho^2}{1+\\rho^2}$ and the value of $\\alpha$ in the Q matrix is $\\frac{\\rho}{1-\\rho^2}$"
   ]
  },
  {
   "cell_type": "code",
   "execution_count": 14,
   "id": "2bfccc59-aa9b-4fc0-8c67-341f0bac2898",
   "metadata": {},
   "outputs": [],
   "source": [
    "def calc_alpha_beta (rho):\n",
    "    alpha = rho/(1+rho**2)\n",
    "    beta = (1-rho**2)/(1+rho**2)\n",
    "    return alpha,np.sqrt(beta)"
   ]
  },
  {
   "cell_type": "code",
   "execution_count": 15,
   "id": "391c75c5-890b-4ebe-bdf5-abbb5b4aedb8",
   "metadata": {},
   "outputs": [],
   "source": [
    "[alpha,beta] = calc_alpha_beta(rho)\n",
    "Q = get_Q(alpha,N)\n",
    "BR_ = (beta**2)*np.linalg.inv(R)"
   ]
  },
  {
   "cell_type": "code",
   "execution_count": 16,
   "id": "38f16847-4e06-4452-afed-6c84e6d58350",
   "metadata": {},
   "outputs": [
    {
     "data": {
      "text/plain": [
       "array([[ 0.502, -0.498,  0.   ,  0.   ,  0.   ,  0.   ,  0.   ,  0.   ],\n",
       "       [-0.498,  1.   , -0.498,  0.   ,  0.   ,  0.   ,  0.   ,  0.   ],\n",
       "       [ 0.   , -0.498,  1.   , -0.498,  0.   ,  0.   ,  0.   ,  0.   ],\n",
       "       [ 0.   ,  0.   , -0.498,  1.   , -0.498,  0.   ,  0.   ,  0.   ],\n",
       "       [ 0.   ,  0.   ,  0.   , -0.498,  1.   , -0.498,  0.   ,  0.   ],\n",
       "       [ 0.   ,  0.   ,  0.   ,  0.   , -0.498,  1.   , -0.498,  0.   ],\n",
       "       [ 0.   ,  0.   ,  0.   ,  0.   ,  0.   , -0.498,  1.   ,  0.   ],\n",
       "       [ 0.   ,  0.   ,  0.   ,  0.   ,  0.   ,  0.   ,  0.   ,  0.502]])"
      ]
     },
     "metadata": {},
     "output_type": "display_data"
    }
   ],
   "source": [
    "display(np.round(Q,decimals=3))"
   ]
  },
  {
   "cell_type": "code",
   "execution_count": 17,
   "id": "14dbf7a0-9671-44f9-846c-9e8470ad0979",
   "metadata": {},
   "outputs": [
    {
     "data": {
      "text/plain": [
       "array([[ 0.547, -0.498,  0.   , -0.   ,  0.   , -0.   ,  0.   , -0.   ],\n",
       "       [-0.498,  1.   , -0.498,  0.   , -0.   ,  0.   , -0.   ,  0.   ],\n",
       "       [ 0.   , -0.498,  1.   , -0.498, -0.   ,  0.   ,  0.   , -0.   ],\n",
       "       [-0.   ,  0.   , -0.498,  1.   , -0.498, -0.   , -0.   ,  0.   ],\n",
       "       [ 0.   , -0.   ,  0.   , -0.498,  1.   , -0.498,  0.   , -0.   ],\n",
       "       [-0.   ,  0.   ,  0.   , -0.   , -0.498,  1.   , -0.498,  0.   ],\n",
       "       [ 0.   , -0.   ,  0.   ,  0.   ,  0.   , -0.498,  1.   , -0.498],\n",
       "       [-0.   ,  0.   , -0.   ,  0.   , -0.   ,  0.   , -0.498,  0.547]])"
      ]
     },
     "metadata": {},
     "output_type": "display_data"
    }
   ],
   "source": [
    "display(np.round(BR_,decimals=3))"
   ]
  },
  {
   "cell_type": "markdown",
   "id": "e9c287f4-9a92-4641-a013-5f4bf84312b8",
   "metadata": {},
   "source": [
    "## Diagonalisation using DCT\n",
    "We diagonalise Q and $\\beta^2R$ using DCT. We observe that both are not diagonalisable"
   ]
  },
  {
   "cell_type": "code",
   "execution_count": 18,
   "id": "99aeed25-5414-4494-8a73-141c5f42cd1c",
   "metadata": {},
   "outputs": [],
   "source": [
    "Diagonalized_matrix_1 = DCT(Q)\n",
    "Diagonalized_matrix_2 = DCT(BR_)"
   ]
  },
  {
   "cell_type": "code",
   "execution_count": 19,
   "id": "a73d7fa3-445b-4a1d-9ae1-bcf51b1d54c1",
   "metadata": {},
   "outputs": [
    {
     "data": {
      "text/plain": [
       "array([[ 0.129, -0.159,  0.115, -0.056, -0.   ,  0.037, -0.048,  0.032],\n",
       "       [-0.159,  0.283, -0.142,  0.062,  0.013, -0.062,  0.073, -0.048],\n",
       "       [ 0.115, -0.142,  0.384, -0.017, -0.048,  0.086, -0.088,  0.055],\n",
       "       [-0.056,  0.062, -0.017,  0.579,  0.09 , -0.115,  0.105, -0.062],\n",
       "       [ 0.   ,  0.013, -0.048,  0.09 ,  0.876,  0.135, -0.115,  0.066],\n",
       "       [ 0.037, -0.062,  0.086, -0.115,  0.135,  1.245,  0.111, -0.062],\n",
       "       [-0.048,  0.073, -0.088,  0.105, -0.115,  0.111,  1.616,  0.049],\n",
       "       [ 0.032, -0.048,  0.055, -0.062,  0.066, -0.062,  0.049,  1.893]])"
      ]
     },
     "metadata": {},
     "output_type": "display_data"
    }
   ],
   "source": [
    "display(np.round(Diagonalized_matrix_1,decimals=3))"
   ]
  },
  {
   "cell_type": "code",
   "execution_count": 20,
   "id": "595ec0c0-5c92-4ed7-973c-d7c5af0392fe",
   "metadata": {},
   "outputs": [
    {
     "data": {
      "text/plain": [
       "array([[ 0.016,  0.   ,  0.015, -0.   ,  0.011,  0.   ,  0.006,  0.   ],\n",
       "       [-0.   ,  0.102, -0.   ,  0.018,  0.   ,  0.012,  0.   ,  0.004],\n",
       "       [ 0.015,  0.   ,  0.315,  0.   ,  0.015,  0.   ,  0.008,  0.   ],\n",
       "       [-0.   ,  0.018,  0.   ,  0.634,  0.   ,  0.01 ,  0.   ,  0.004],\n",
       "       [ 0.011,  0.   ,  0.015,  0.   ,  1.011,  0.   ,  0.006, -0.   ],\n",
       "       [ 0.   ,  0.012,  0.   ,  0.01 ,  0.   ,  1.388, -0.   ,  0.002],\n",
       "       [ 0.006,  0.   ,  0.008,  0.   ,  0.006, -0.   ,  1.707, -0.   ],\n",
       "       [ 0.   ,  0.004,  0.   ,  0.004, -0.   ,  0.002, -0.   ,  1.921]])"
      ]
     },
     "metadata": {},
     "output_type": "display_data"
    }
   ],
   "source": [
    "display(np.round(Diagonalized_matrix_2,decimals=3))"
   ]
  },
  {
   "cell_type": "markdown",
   "id": "5ce08525-dfa2-41b6-b0f0-b4fd88f7e3c2",
   "metadata": {},
   "source": [
    "## Singular Value Decomposition of a 2D image\n",
    "Compute SVD for the given 8 × 8 image g (provided in imageFile.mat and also given below)\n",
    "using the following steps:\n",
    "(a) Perform eigen-value decomposition of $gg^T$ and $g^Tg$\n",
    "(b) Find the singular value matrix $\\Sigma$.\n",
    "(c) Reconstruct the image using $\\Sigma$ and the eigen-vector matrices.\n",
    "\n",
    "We then follow by trying to reconstruct the image with the highest k eigen values removed and observe $\\hat{g}_k$.There reconstruction error can be theoritically given as the Frobenius norm of the error between the image and reconstructed one. As discussed in class, this is the sum of the k $\\sigma$ values."
   ]
  },
  {
   "cell_type": "code",
   "execution_count": 21,
   "id": "7447fdf3-d3be-4bb8-a080-5bd643d8c41c",
   "metadata": {},
   "outputs": [],
   "source": [
    "def SVD(g):\n",
    "    g = g.astype(np.float64)\n",
    "    m, n = np.shape(g)\n",
    "    min_dim = min(m, n)\n",
    "    sigma = np.zeros((m, n))\n",
    "    S1 = g@(g.T)\n",
    "    S2 = (g.T)@g\n",
    "    e1, v1 = Eigen_values(S1)\n",
    "    e2, v2 = Eigen_values(S2)\n",
    "    for i in range(min_dim):\n",
    "        sigma[i, i] = (np.sqrt(e1[i])+np.sqrt(e2[i]))/2\n",
    "        v = v2[:, i]\n",
    "        if np.sum((g@v-sigma[i, i]*v1[:, i])**2) > np.sum((g@v+sigma[i, i]*v1[:, i])**2):\n",
    "            v2[:, i] = -v\n",
    "    return v1, sigma, v2"
   ]
  },
  {
   "cell_type": "code",
   "execution_count": 22,
   "id": "5a02b151-c9c7-4f50-8bd9-044e90135395",
   "metadata": {},
   "outputs": [],
   "source": [
    "def reconstruct_from_SVD(A, Sigma, B):\n",
    "    return A@Sigma@(B.T)"
   ]
  },
  {
   "cell_type": "code",
   "execution_count": 23,
   "id": "16eadf51-41b7-4bbc-8b6a-77105e70f86a",
   "metadata": {},
   "outputs": [],
   "source": [
    "def reconstruction_errors_SVD(g, A, Sigma, B):\n",
    "    g = g.astype(np.float64)\n",
    "    m, n = np.shape(g)\n",
    "    min_dim = min(m, n)\n",
    "    reconstruction_errors = np.zeros(min_dim)\n",
    "    reconstructed_matrix = g.copy()\n",
    "    for i in range(min_dim):\n",
    "        # remove the contribution of the ith singular value and its vectors\n",
    "        reconstructed_matrix -= Sigma[i, i]*np.outer(A[:, i], B[:, i])\n",
    "        # get the frobenius norm\n",
    "        reconstruction_errors[i] = np.sum((reconstructed_matrix - g)**2)\n",
    "    return reconstruction_errors"
   ]
  },
  {
   "cell_type": "code",
   "execution_count": 24,
   "id": "b938ae1c-6102-4150-98cf-63bf63a88fa5",
   "metadata": {},
   "outputs": [],
   "source": [
    "def theoretical_reconstruction_errors(Sigma):\n",
    "    # get the non zero entries of the Sigma matrix\n",
    "    sigma = Sigma[Sigma > 0]\n",
    "    return np.cumsum(sigma**2)"
   ]
  },
  {
   "cell_type": "code",
   "execution_count": 25,
   "id": "3e79e3d3-862a-4e27-b09b-249c5244e6d6",
   "metadata": {},
   "outputs": [],
   "source": [
    "g = loadmat('imageFile.mat')['g']\n",
    "A, Sigma, B = SVD(g)\n",
    "# reconstruct g using all singular values\n",
    "g_hat = reconstruct_from_SVD(A, Sigma, B)\n",
    "# get the theoretical and experimental reconstruction errors\n",
    "reconstruction_errors_experimental = reconstruction_errors_SVD(g, A, Sigma, B)\n",
    "reconstruction_errors_theoretical = theoretical_reconstruction_errors(Sigma)"
   ]
  },
  {
   "cell_type": "code",
   "execution_count": 26,
   "id": "b65ce5c3-9869-4812-bfcf-940a00512747",
   "metadata": {},
   "outputs": [
    {
     "data": {
      "image/png": "[encoded data removed]",
      "text/plain": [
       "<Figure size 576x432 with 1 Axes>"
      ]
     },
     "metadata": {
      "needs_background": "light"
     },
     "output_type": "display_data"
    }
   ],
   "source": [
    "plt.figure(figsize=(8, 6))\n",
    "plt.plot(np.arange(N)+1, reconstruction_errors_theoretical, 'red', linewidth=8)\n",
    "plt.plot(np.arange(N)+1, reconstruction_errors_experimental,\n",
    "         '-o', linewidth=3, color=\"blue\")\n",
    "plt.xlabel(\"singular values removed (k)\")\n",
    "plt.ylabel(r'||g-$\\hat{g}_{k}||^{2}$')\n",
    "plt.legend([\"Expected\", \"Calculated\"])\n",
    "plt.title(\"Reconstruction Errors\")\n",
    "plt.grid(True)\n",
    "plt.show()"
   ]
  },
  {
   "cell_type": "code",
   "execution_count": null,
   "id": "d85b5d91-c155-4710-872f-8fc5365be4fb",
   "metadata": {},
   "outputs": [],
   "source": []
  }
 ],
 "metadata": {
  "kernelspec": {
   "display_name": "Python 3 (ipykernel)",
   "language": "python",
   "name": "python3"
  },
  "language_info": {
   "codemirror_mode": {
    "name": "ipython",
    "version": 3
   },
   "file_extension": ".py",
   "mimetype": "text/x-python",
   "name": "python",
   "nbconvert_exporter": "python",
   "pygments_lexer": "ipython3",
   "version": "3.9.7"
  }
 },
 "nbformat": 4,
 "nbformat_minor": 5
}
